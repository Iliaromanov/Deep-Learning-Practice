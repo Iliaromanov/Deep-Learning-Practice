{
 "metadata": {
  "language_info": {
   "codemirror_mode": {
    "name": "ipython",
    "version": 3
   },
   "file_extension": ".py",
   "mimetype": "text/x-python",
   "name": "python",
   "nbconvert_exporter": "python",
   "pygments_lexer": "ipython3",
   "version": "3.6.8"
  },
  "orig_nbformat": 2,
  "kernelspec": {
   "name": "python368jvsc74a57bd079b34c132431629d3c5274ec3b6bb03b828c385fb18b030c8223d0c222d2b2a1",
   "display_name": "Python 3.6.8 64-bit"
  },
  "metadata": {
   "interpreter": {
    "hash": "79b34c132431629d3c5274ec3b6bb03b828c385fb18b030c8223d0c222d2b2a1"
   }
  }
 },
 "nbformat": 4,
 "nbformat_minor": 2,
 "cells": [
  {
   "source": [
    "Vectorization is much faster than using explicit for loops\n",
    "\n",
    "eg. computing z = w^T*x, where xeR^100000 and weR^100000"
   ],
   "cell_type": "markdown",
   "metadata": {}
  },
  {
   "cell_type": "code",
   "execution_count": 1,
   "metadata": {},
   "outputs": [
    {
     "output_type": "stream",
     "name": "stdout",
     "text": [
      "c: 250455.59959064896\n",
      "Vectorized: 1.0025501251220703ms\n",
      "c: 250455.59959065064\n",
      "For loop: 568.2260990142822ms\n"
     ]
    }
   ],
   "source": [
    "import numpy as np\n",
    "import time\n",
    "\n",
    "a = np.random.rand(1000000)\n",
    "b = np.random.rand(1000000)\n",
    "\n",
    "start = time.time()\n",
    "c = np.dot(a, b)\n",
    "end = time.time()\n",
    "\n",
    "print(f\"c: {c}\")\n",
    "print(f\"Vectorized: {1000*(end - start)}ms\")\n",
    "\n",
    "c = 0\n",
    "start = time.time()\n",
    "for i in range(1000000):\n",
    "    c += a[i] * b[i]\n",
    "end = time.time()\n",
    "\n",
    "print(f\"c: {c}\")\n",
    "print(f\"For loop: {1000*(end - start)}ms\")"
   ]
  },
  {
   "cell_type": "code",
   "execution_count": null,
   "metadata": {},
   "outputs": [],
   "source": []
  }
 ]
}