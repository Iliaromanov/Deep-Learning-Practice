{
 "metadata": {
  "language_info": {
   "codemirror_mode": {
    "name": "ipython",
    "version": 3
   },
   "file_extension": ".py",
   "mimetype": "text/x-python",
   "name": "python",
   "nbconvert_exporter": "python",
   "pygments_lexer": "ipython3",
   "version": "3.6.8"
  },
  "orig_nbformat": 2,
  "kernelspec": {
   "name": "python368jvsc74a57bd079b34c132431629d3c5274ec3b6bb03b828c385fb18b030c8223d0c222d2b2a1",
   "display_name": "Python 3.6.8 64-bit"
  },
  "metadata": {
   "interpreter": {
    "hash": "79b34c132431629d3c5274ec3b6bb03b828c385fb18b030c8223d0c222d2b2a1"
   }
  }
 },
 "nbformat": 4,
 "nbformat_minor": 2,
 "cells": [
  {
   "source": [
    "Vectorization is much faster than using explicit for loops\n",
    "\n",
    "eg. computing z = w^T*x, where xeR^100000 and weR^100000"
   ],
   "cell_type": "markdown",
   "metadata": {}
  },
  {
   "cell_type": "code",
   "execution_count": 1,
   "metadata": {},
   "outputs": [
    {
     "output_type": "stream",
     "name": "stdout",
     "text": [
      "c: 250455.59959064896\n",
      "Vectorized: 1.0025501251220703ms\n",
      "c: 250455.59959065064\n",
      "For loop: 568.2260990142822ms\n"
     ]
    }
   ],
   "source": [
    "import numpy as np\n",
    "import time\n",
    "\n",
    "a = np.random.rand(1000000)\n",
    "b = np.random.rand(1000000)\n",
    "\n",
    "start = time.time()\n",
    "c = np.dot(a, b)\n",
    "end = time.time()\n",
    "\n",
    "print(f\"c: {c}\")\n",
    "print(f\"Vectorized: {1000*(end - start)}ms\")\n",
    "\n",
    "c = 0\n",
    "start = time.time()\n",
    "for i in range(1000000):\n",
    "    c += a[i] * b[i]\n",
    "end = time.time()\n",
    "\n",
    "print(f\"c: {c}\")\n",
    "print(f\"For loop: {1000*(end - start)}ms\")"
   ]
  },
  {
   "source": [
    "Broadcasting can also significantly speed up python code"
   ],
   "cell_type": "markdown",
   "metadata": {}
  },
  {
   "cell_type": "code",
   "execution_count": 2,
   "metadata": {},
   "outputs": [
    {
     "output_type": "execute_result",
     "data": {
      "text/plain": [
       "array([[ 1,  2,  3, 11],\n",
       "       [ 4,  5,  6, 12],\n",
       "       [ 7,  8,  9, 13]])"
      ]
     },
     "metadata": {},
     "execution_count": 2
    }
   ],
   "source": [
    "# Broadcasting eg.\n",
    "# Divide each entry in column by sum of entries in that column\n",
    "\n",
    "A = np.array([[1, 2, 3, 11],\n",
    "              [4, 5, 6, 12],\n",
    "              [7, 8, 9, 13]])\n",
    "print(A)"
   ]
  },
  {
   "cell_type": "code",
   "execution_count": 3,
   "metadata": {},
   "outputs": [
    {
     "output_type": "stream",
     "name": "stdout",
     "text": [
      "[12 15 18 36]\n"
     ]
    }
   ],
   "source": [
    "col_sum = A.sum(axis=0) # axis = 0 denotes vertical sum\n",
    "print(col_sum)"
   ]
  },
  {
   "cell_type": "code",
   "execution_count": 4,
   "metadata": {},
   "outputs": [
    {
     "output_type": "stream",
     "name": "stdout",
     "text": [
      "[[0.08333333 0.13333333 0.16666667 0.30555556]\n [0.33333333 0.33333333 0.33333333 0.33333333]\n [0.58333333 0.53333333 0.5        0.36111111]]\n"
     ]
    }
   ],
   "source": [
    "div = A/col_sum.reshape(1, 4) # Reshape col_sum to a 1x4 matrix divide matrix A by it\n",
    "print(div)"
   ]
  },
  {
   "source": [
    "Extra python-numpy vector notes"
   ],
   "cell_type": "markdown",
   "metadata": {}
  },
  {
   "cell_type": "code",
   "execution_count": 10,
   "metadata": {},
   "outputs": [
    {
     "output_type": "stream",
     "name": "stdout",
     "text": [
      "This is bad:\n[ 0.97601153  0.61111749 -0.27121165 -0.65104352 -0.54773022]\nTranspose: [ 0.97601153  0.61111749 -0.27121165 -0.65104352 -0.54773022]\n\nThis is good:\n[[ 1.79779231]\n [ 0.913771  ]\n [-0.84095159]\n [-1.43963672]\n [ 0.27589339]]\nTranspose: [[ 1.79779231  0.913771   -0.84095159 -1.43963672  0.27589339]]\n"
     ]
    }
   ],
   "source": [
    "# Better to specify both rows and columns when initializing a vector\n",
    "bad = np.random.randn(5) # bad; only specified cols\n",
    "print(\"This is bad:\")\n",
    "print(bad)\n",
    "print(f\"Transpose: {bad.T}\\n\")\n",
    "\n",
    "good = np.random.randn(5, 1) # good; specified that its a 5x1 column matrix\n",
    "print(\"This is good:\")\n",
    "print(good)\n",
    "print(f\"Transpose: {good.T}\")"
   ]
  },
  {
   "cell_type": "code",
   "execution_count": null,
   "metadata": {},
   "outputs": [],
   "source": []
  }
 ]
}